{
 "cells": [
  {
   "cell_type": "code",
   "execution_count": 1,
   "id": "51a75bf8",
   "metadata": {},
   "outputs": [
    {
     "name": "stdout",
     "output_type": "stream",
     "text": [
      "Accuracy: 0.6530612244897959\n"
     ]
    }
   ],
   "source": [
    "from collections import Counter\n",
    "\n",
    "import numpy as np\n",
    "\n",
    "\n",
    "def entropy(y):\n",
    "    uniqueValues, uniqueCounts = np.unique(y, return_counts=True)\n",
    "    ps = uniqueCounts / len(y)\n",
    "    return -np.sum([p * np.log2(p) for p in ps if p > 0])\n",
    "\n",
    "def majorityError(data,featureIndex):\n",
    "    mjSum = 0\n",
    "    yColumnUniques = np.unique(data[: , -1])\n",
    "    indices = np.argwhere()\n",
    "    for yUnique in range(yColumnUniques):\n",
    "      tempIndices = np.argwhere(data[: , featureIndex,-1][: , -1] == yColumnUniques[yUnique])\n",
    "      tempData = data[tempIndices: , featureIndex]\n",
    "\n",
    "      uniqueValues, uniqueCounts = np.unique(tempData, return_counts=True)\n",
    "      ps = uniqueCounts.sort()\n",
    "      ps = ps / len(tempData)\n",
    "      mjSum = mjSum + np.sum([p])\n",
    "    return np.sum()\n",
    "\n",
    "\n",
    "class Node:\n",
    "    def __init__(\n",
    "        self, attribute=None, splitValue=None, left=None, right=None, *, value=None\n",
    "    ):\n",
    "        self.attribute = attribute\n",
    "        self.splitValue = splitValue\n",
    "        self.left = left\n",
    "        self.right = right\n",
    "        self.value = value\n",
    "\n",
    "    def leafNodeCheck(self):\n",
    "        return self.value is not None\n",
    "\n",
    "\n",
    "class DecisionTree:\n",
    "    def __init__(self, maxDepth=100, nAttributes=None):\n",
    "        self.maxDepth = maxDepth\n",
    "        self.nAttributes = nAttributes\n",
    "        self.root = None\n",
    "\n",
    "    def fit(self, X, y):\n",
    "        self.nAttributes = X.shape[1] if not self.nAttributes else min(self.nAttributes, X.shape[1])\n",
    "        self.root = self.buildTree(X, y)\n",
    "\n",
    "    def predict(self, X):\n",
    "        return np.array([self.treeTravel(x, self.root) for x in X])\n",
    "\n",
    "    def buildTree(self, X, y, depth=0):\n",
    "        examples, attributes = X.shape\n",
    "        uniqueLabels = len(np.unique(y))\n",
    "\n",
    "        if (\n",
    "            depth >= self.maxDepth\n",
    "            or uniqueLabels == 1\n",
    "        ):\n",
    "            leafValue = self.mostCommonLabels(y)\n",
    "            return Node(value=leafValue)\n",
    "        \n",
    "        selectedAttribute, selectedValue = self.getBestSplit(X, y, attributes)\n",
    "\n",
    "        leftInd, rightInd = self.splitData(X[:, selectedAttribute], selectedValue)\n",
    "        left = self.buildTree(X[leftInd, :], y[leftInd], depth + 1)\n",
    "        right = self.buildTree(X[rightInd, :], y[rightInd], depth + 1)\n",
    "        return Node(selectedAttribute, selectedValue, left, right)\n",
    "\n",
    "    def getBestSplit(self, X, y, attrInds):\n",
    "        bestGain = -1\n",
    "        splitInd, splitVal = None, None\n",
    "        for attrInd in range(attrInds):\n",
    "            xColumn = X[:, attrInd]\n",
    "            values = np.unique(xColumn)\n",
    "            for value in values:\n",
    "                gain = self.informationGain(y, xColumn, value)\n",
    "\n",
    "                if gain > bestGain:\n",
    "                    bestGain = gain\n",
    "                    splitInd = attrInd\n",
    "                    splitVal = value\n",
    "\n",
    "        return splitInd, splitVal\n",
    "\n",
    "    def informationGain(self, y, xColumn, splitValue):\n",
    "        parentEnt = entropy(y)\n",
    "        leftBranch, rightBranch = self.splitData(xColumn, splitValue)\n",
    "        if len(leftBranch) == 0 or len(rightBranch) == 0:\n",
    "            return 0\n",
    "\n",
    "        n = len(y)\n",
    "        nl, nr = len(leftBranch), len(rightBranch)\n",
    "        el, er = entropy(y[leftBranch]), entropy(y[rightBranch])\n",
    "        childEnt = (nl / n) * el + (nr / n) * er\n",
    "        ig = parentEnt - childEnt\n",
    "        return ig\n",
    "\n",
    "    def splitData(self, attributeColumn, splitValue):\n",
    "\n",
    "        leftBranch = np.argwhere(attributeColumn <= splitValue).flatten()\n",
    "        rightBranch = np.argwhere(attributeColumn > splitValue).flatten()\n",
    "        return leftBranch, rightBranch\n",
    "\n",
    "    def treeTravel(self, x, node):\n",
    "        if node.leafNodeCheck():\n",
    "            return node.value\n",
    "\n",
    "        if x[node.attribute] <= node.splitValue:\n",
    "            return self.treeTravel(x, node.left)\n",
    "        return self.treeTravel(x, node.right)\n",
    "\n",
    "    def mostCommonLabels(self, y):\n",
    "        counter = Counter(y[:, 0])\n",
    "        mostCommon = counter.most_common(1)[0][0]\n",
    "        return mostCommon\n",
    "\n",
    "\n",
    "if __name__ == \"__main__\":\n",
    "    import pandas as pd\n",
    "\n",
    "    def accuracy(trueLabels, predictedLabels):\n",
    "        trueLabels = trueLabels.flatten()           \n",
    "        accuracy = np.sum(trueLabels == predictedLabels) / len(trueLabels)\n",
    "        return accuracy\n",
    "    #for i in range(17):\n",
    "    ''' Usually takes a lot of time to run in the loop. Best thing to do is to pass the desired depth'''\n",
    "    data = pd.read_csv('data/roberta.train.csv')\n",
    "    X = data.iloc[:, :-1].values\n",
    "    Y = data.iloc[:, -1].values.reshape(-1,1)\n",
    "\n",
    "    clf = DecisionTree(maxDepth=11)\n",
    "    clf.fit(X, Y)\n",
    "\n",
    "    data = pd.read_csv('data/roberta.test.csv')\n",
    "    xTest = data.iloc[:, :-1].values\n",
    "    yTest = data.iloc[:, -1].values.reshape(-1,1)\n",
    "    yPred = clf.predict(xTest) \n",
    "\n",
    "\n",
    "    acc = accuracy(yTest, yPred)\n",
    "\n",
    "    print(\"Accuracy:\", acc)"
   ]
  },
  {
   "cell_type": "code",
   "execution_count": 2,
   "id": "887a61c6",
   "metadata": {},
   "outputs": [
    {
     "name": "stdout",
     "output_type": "stream",
     "text": [
      "[1 0 1 ... 0 0 1]\n"
     ]
    }
   ],
   "source": [
    "print(yPred)"
   ]
  },
  {
   "cell_type": "code",
   "execution_count": 12,
   "id": "d15e1650",
   "metadata": {},
   "outputs": [],
   "source": [
    "eval = pd.read_csv('data/roberta.eval.anon.csv')"
   ]
  },
  {
   "cell_type": "code",
   "execution_count": 13,
   "id": "c129709b",
   "metadata": {},
   "outputs": [],
   "source": [
    "eval_test = data.iloc[:, :-1].values\n",
    "eval_label = data.iloc[:, -1].values\n",
    "eval_pred = clf.predict(eval_test)"
   ]
  },
  {
   "cell_type": "code",
   "execution_count": 14,
   "id": "fae055ab",
   "metadata": {},
   "outputs": [
    {
     "name": "stdout",
     "output_type": "stream",
     "text": [
      "Accuracy: 0.6530612244897959\n"
     ]
    }
   ],
   "source": [
    "acc = accuracy(eval_label, yPred)\n",
    "print(\"Accuracy:\", acc)"
   ]
  },
  {
   "cell_type": "code",
   "execution_count": 15,
   "id": "970d3fd6",
   "metadata": {},
   "outputs": [
    {
     "data": {
      "text/plain": [
       "label\n",
       "1        769\n",
       "0        750\n",
       "dtype: int64"
      ]
     },
     "execution_count": 15,
     "metadata": {},
     "output_type": "execute_result"
    }
   ],
   "source": [
    "y_pred = pd.DataFrame(eval_pred, columns = [\"label\"], dtype = int)\n",
    "y_pred[y_pred == -1] = 0\n",
    "y_pred\n",
    "\n",
    "y_pred.to_csv(\"data/evals_data_out/evals_Decision_tree_final.csv\")\n",
    "y_pred.value_counts()"
   ]
  },
  {
   "cell_type": "code",
   "execution_count": null,
   "id": "942d6273",
   "metadata": {},
   "outputs": [],
   "source": []
  }
 ],
 "metadata": {
  "kernelspec": {
   "display_name": "Python 3 (ipykernel)",
   "language": "python",
   "name": "python3"
  },
  "language_info": {
   "codemirror_mode": {
    "name": "ipython",
    "version": 3
   },
   "file_extension": ".py",
   "mimetype": "text/x-python",
   "name": "python",
   "nbconvert_exporter": "python",
   "pygments_lexer": "ipython3",
   "version": "3.9.13"
  }
 },
 "nbformat": 4,
 "nbformat_minor": 5
}
