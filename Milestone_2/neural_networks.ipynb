{
 "cells": [
  {
   "cell_type": "code",
   "execution_count": null,
   "metadata": {
    "id": "W51NN3-o8cNr"
   },
   "outputs": [],
   "source": [
    "import tensorflow as tf\n",
    "# from google.colab import files"
   ]
  },
  {
   "cell_type": "code",
   "execution_count": 1,
   "metadata": {
    "id": "aWKG8ol6A-AG"
   },
   "outputs": [],
   "source": [
    "import numpy as np\n",
    "import pandas as pd\n",
    "import matplotlib.pyplot as plt\n",
    "import csv\n",
    "\n",
    "np.random.seed(5)"
   ]
  },
  {
   "cell_type": "code",
   "execution_count": 2,
   "metadata": {
    "id": "2Kbx9uPCB9dV"
   },
   "outputs": [],
   "source": [
    "# train_dataframe = pd.read_csv('/content/roberta.train.csv')\n",
    "# test_dataframe = pd.read_csv('/content/roberta.test.csv')\n",
    "# eval_dataframe = pd.read_csv('/content/roberta.eval.anon.csv')\n",
    "train_dataframe = pd.read_csv('data/roberta.train.csv')\n",
    "test_dataframe = pd.read_csv('data/roberta.test.csv')\n",
    "eval_dataframe = pd.read_csv('data/roberta.eval.anon.csv')\n"
   ]
  },
  {
   "cell_type": "code",
   "execution_count": null,
   "metadata": {
    "id": "9lss0AR6CWOJ"
   },
   "outputs": [],
   "source": [
    "\n",
    "train_x = train_dataframe.iloc[:, :-1]\n",
    "# barr = [[1]] * train_dataframe.shape[0]\n",
    "# index = -1\n",
    "# train_x=np.append(train_x,barr,axis=1)\n",
    "train_y = train_dataframe.iloc[:, -1]\n",
    "# train_y[train_y == 0] = -1\n",
    "\n",
    "test_x = test_dataframe.iloc[:, :-1]\n",
    "# barr = [[1]] * test_dataframe.shape[0]\n",
    "# index = -1\n",
    "# test_x=np.append(test_x,barr,axis=1)\n",
    "test_y = test_dataframe.iloc[:, -1]\n",
    "# test_y[test_y == 0] = -1\n",
    "\n",
    "eval_x = eval_dataframe.iloc[:, :-1]\n",
    "# barr = [[1]] * eval_dataframe.shape[0]\n",
    "# index = -1\n",
    "# eval_x = np.append(eval_x,barr,axis=1)\n",
    "eval_y = eval_dataframe.iloc[:, -1]\n",
    "# eval_y[eval_y == 0] = -1\n",
    "\n"
   ]
  },
  {
   "cell_type": "code",
   "execution_count": null,
   "metadata": {
    "id": "6R3tcj4WC_c4"
   },
   "outputs": [],
   "source": [
    "model = tf.keras.models.Sequential([\n",
    "  tf.keras.layers.Flatten(input_shape=(768,)),\n",
    "  tf.keras.layers.Dense(16, activation='elu'),\n",
    "  tf.keras.layers.Dropout(0.2),\n",
    "  tf.keras.layers.Dense(32, activation='elu'),\n",
    "  tf.keras.layers.Dropout(0.2),\n",
    "  tf.keras.layers.Dense(64, activation='elu'),\n",
    "  tf.keras.layers.Dropout(0.2),\n",
    "  tf.keras.layers.Dense(128, activation='elu'),\n",
    "  tf.keras.layers.Dropout(0.2),\n",
    "  tf.keras.layers.Dense(250, activation='elu'),\n",
    "  tf.keras.layers.Dropout(0.2),\n",
    "  tf.keras.layers.Dense(256, activation='elu'),\n",
    "  tf.keras.layers.Dropout(0.2),\n",
    "  # tf.keras.layers.Dense(512, activation='elu'),\n",
    "  # tf.keras.layers.Dropout(0.2),\n",
    "\n",
    " \n",
    "  # tf.keras.layers.Dense(512, activation='elu'),\n",
    "  # tf.keras.layers.Dense(512, activation='elu'),\n",
    "  # tf.keras.layers.Dense(512, activation='elu'),\n",
    "  # tf.keras.layers.Dense(512, activation='elu'),\n",
    "  # tf.keras.layers.Dense(1, activation='elu'),\n",
    "  # tf.keras.layers.Dropout(0.2),\n",
    "  tf.keras.layers.Dense(1,activation = \"sigmoid\")\n",
    "\n",
    "])"
   ]
  },
  {
   "cell_type": "code",
   "execution_count": null,
   "metadata": {
    "id": "A37ywcq7FCd_"
   },
   "outputs": [],
   "source": [
    "model.compile(loss='binary_crossentropy', optimizer='adam', metrics=['accuracy'])"
   ]
  },
  {
   "cell_type": "code",
   "execution_count": null,
   "metadata": {
    "colab": {
     "base_uri": "https://localhost:8080/"
    },
    "id": "75HL1lv3Fj15",
    "outputId": "8f0e0a68-0925-456d-dae1-22ca6f4cb8eb"
   },
   "outputs": [],
   "source": [
    "model.fit(train_x, train_y, epochs=20)"
   ]
  },
  {
   "cell_type": "code",
   "execution_count": null,
   "metadata": {
    "colab": {
     "base_uri": "https://localhost:8080/"
    },
    "id": "lRHkWEyhI3Yo",
    "outputId": "15acbe77-2b6d-4899-f967-9179ef71ea14"
   },
   "outputs": [],
   "source": [
    "model.evaluate(test_x,  test_y, verbose=2)"
   ]
  },
  {
   "cell_type": "code",
   "execution_count": null,
   "metadata": {
    "colab": {
     "base_uri": "https://localhost:8080/"
    },
    "id": "y0jSvWusGrUG",
    "outputId": "ebb68554-79b3-4db2-a286-e4739e371284"
   },
   "outputs": [],
   "source": [
    "arr = model.predict(eval_x)"
   ]
  },
  {
   "cell_type": "code",
   "execution_count": null,
   "metadata": {
    "colab": {
     "base_uri": "https://localhost:8080/"
    },
    "id": "QO1W2hFvJuUi",
    "outputId": "13ad5b9a-a5f1-4820-a548-81dd85aee053"
   },
   "outputs": [],
   "source": [
    "eval_pred = []\n",
    "for item in arr:\n",
    "    if(item[0] >0.5):\n",
    "        eval_pred.append(1)\n",
    "    else:\n",
    "        eval_pred.append(0)\n",
    "print(eval_pred)"
   ]
  },
  {
   "cell_type": "code",
   "execution_count": null,
   "metadata": {
    "colab": {
     "base_uri": "https://localhost:8080/"
    },
    "id": "eUbeJQ_1Lerg",
    "outputId": "98ee69f1-2d00-41b9-ecd1-11d366509796"
   },
   "outputs": [],
   "source": [
    "predictions_eval = pd.Series(eval_pred)\n",
    "predictions_eval"
   ]
  },
  {
   "cell_type": "code",
   "execution_count": null,
   "metadata": {
    "colab": {
     "base_uri": "https://localhost:8080/"
    },
    "id": "9c3JgG4DLk6Z",
    "outputId": "6a8e33fe-edcf-4ddc-dda3-af506565c0ab"
   },
   "outputs": [],
   "source": [
    "# predictions_eval.to_csv(\"/content/evals_final_milestone_2_roberta.csv\")\n",
    "predictions_eval.to_csv(\"data/evals_data_out/evals_final_milestone_2_roberta.csv\")\n",
    "predictions_eval.value_counts()"
   ]
  }
 ],
 "metadata": {
  "colab": {
   "provenance": []
  },
  "kernelspec": {
   "display_name": "Python 3 (ipykernel)",
   "language": "python",
   "name": "python3"
  },
  "language_info": {
   "codemirror_mode": {
    "name": "ipython",
    "version": 3
   },
   "file_extension": ".py",
   "mimetype": "text/x-python",
   "name": "python",
   "nbconvert_exporter": "python",
   "pygments_lexer": "ipython3",
   "version": "3.9.13"
  }
 },
 "nbformat": 4,
 "nbformat_minor": 1
}
