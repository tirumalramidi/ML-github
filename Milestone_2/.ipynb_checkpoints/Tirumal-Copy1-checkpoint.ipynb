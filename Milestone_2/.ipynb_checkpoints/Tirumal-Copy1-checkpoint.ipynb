{
 "cells": [
  {
   "cell_type": "code",
   "execution_count": 1,
   "id": "d3653a01",
   "metadata": {},
   "outputs": [],
   "source": [
    "import pandas as pd\n",
    "import numpy as np\n",
    "from collections import defaultdict\n",
    "from pprint import pprint\n",
    "\n",
    "x = pd.read_csv('data/roberta.train.csv')\n",
    "x_test = pd.read_csv('data/roberta.test.csv')\n",
    "\n",
    "# x_miss_train_data = pd.read_csv('data/data_missing/train.csv')\n",
    "# x_miss_test_data = pd.read_csv('data/data_missing/test.csv')"
   ]
  },
  {
   "cell_type": "code",
   "execution_count": 2,
   "id": "420b43b9",
   "metadata": {},
   "outputs": [],
   "source": [
    "def get_accuracy(pred_label, true_label):\n",
    "    \n",
    "    cnt = 0\n",
    "    for i in range(len(pred_label)):\n",
    "        if pred_label[i] == true_label[i]:\n",
    "            cnt += 1\n",
    "    \n",
    "    return cnt*100/len(pred_label)"
   ]
  },
  {
   "cell_type": "code",
   "execution_count": 3,
   "id": "043f4a88",
   "metadata": {},
   "outputs": [],
   "source": [
    "def entropy(x):\n",
    "    labels = x['label']\n",
    "    all_cnt = len(list(x['label']))\n",
    "    unique_labels = np.unique(x['label'])\n",
    "    entropy = 0\n",
    "    \n",
    "    for v in unique_labels:\n",
    "        cnt = x['label'].value_counts().loc[v]\n",
    "        p = cnt/all_cnt\n",
    "        entropy += (-p* np.log2(p))\n",
    "        \n",
    "    return entropy"
   ]
  },
  {
   "cell_type": "code",
   "execution_count": 4,
   "id": "85a5c8e6",
   "metadata": {},
   "outputs": [
    {
     "name": "stdout",
     "output_type": "stream",
     "text": [
      "entropy of the train data is 0.9999870776669013\n"
     ]
    }
   ],
   "source": [
    "print(\"entropy of the train data is {}\".format(entropy(x)))"
   ]
  },
  {
   "cell_type": "code",
   "execution_count": 5,
   "id": "0cd1a2ea",
   "metadata": {},
   "outputs": [],
   "source": [
    "def info_gain(x, f):\n",
    "    entropy_x = entropy(x)\n",
    "    unique_vals = np.unique(x[f])\n",
    "    \n",
    "    new_entropy = 0\n",
    "    for v in unique_vals:\n",
    "        sub_x = x[x[f]==v]\n",
    "        entropy_sub_x = entropy(sub_x)\n",
    "        \n",
    "        new_entropy += ((sub_x.shape[0]/x.shape[0])* entropy_sub_x)\n",
    "        \n",
    "    info_gain = entropy_x - new_entropy\n",
    "    return info_gain"
   ]
  },
  {
   "cell_type": "code",
   "execution_count": 6,
   "id": "f4a4b1c5",
   "metadata": {},
   "outputs": [],
   "source": [
    "def get_best_feature(x):\n",
    "    \n",
    "    best_feature = None\n",
    "    best_info_gain = 0\n",
    "    \n",
    "    for f in x.columns[:-1]:\n",
    "        info_gain_f = info_gain(x, f)\n",
    "        \n",
    "        if best_info_gain < info_gain_f:\n",
    "            best_info_gain = info_gain_f\n",
    "            best_feature = f\n",
    "    \n",
    "    return best_feature"
   ]
  },
  {
   "cell_type": "code",
   "execution_count": 7,
   "id": "cf15c403",
   "metadata": {},
   "outputs": [],
   "source": [
    "def decision_tree(x, depth, max_depth):\n",
    "    \n",
    "    if depth == max_depth or get_best_feature(x) == None:\n",
    "        \n",
    "        return list(x['label'].mode())[0]\n",
    "    \n",
    "    split_f = get_best_feature(x)\n",
    "    \n",
    "    if depth == 0:\n",
    "        \n",
    "        print(\"Best feature is\", split_f, \"with information gain:\", info_gain(x, split_f))\n",
    "    \n",
    "    subtree = {split_f: {k:None for k in np.unique(x[split_f])}}\n",
    "    \n",
    "    for v in np.unique(x[split_f]):\n",
    "        \n",
    "        subtree[split_f][v] = decision_tree(x[x[split_f] == v], depth+1, max_depth)\n",
    "        \n",
    "    return subtree\n",
    "    "
   ]
  },
  {
   "cell_type": "code",
   "execution_count": 8,
   "id": "c73739fe",
   "metadata": {},
   "outputs": [],
   "source": [
    "def prediction(x_test, tree):\n",
    "    predictions = []\n",
    "    \n",
    "    \n",
    "    for idx, row in x_test.iterrows():\n",
    "        \n",
    "        subtree = tree\n",
    "        while type(subtree) == dict:\n",
    "            \n",
    "            f = list(subtree.keys())[0]\n",
    "            \n",
    "            row_f_val = row.loc[f]\n",
    "            \n",
    "            if row_f_val in subtree[f]:\n",
    "                subtree = subtree[f][row_f_val]\n",
    "            else:\n",
    "                subtree = 'unacc'\n",
    "            \n",
    "        \n",
    "        predictions.append(subtree)\n",
    "        \n",
    "    \n",
    "    return predictions"
   ]
  },
  {
   "cell_type": "code",
   "execution_count": 9,
   "id": "30ed8b9b",
   "metadata": {},
   "outputs": [
    {
     "name": "stdout",
     "output_type": "stream",
     "text": [
      "----------------------------Baseline--------------------------\n",
      "Train accuracy\n",
      "50.21162528216704\n",
      "Test accuracy\n",
      "50.36208031599737\n"
     ]
    }
   ],
   "source": [
    "print(\"----------------------------Baseline--------------------------\")\n",
    "depth_of_tree = 0\n",
    "tree = decision_tree(x, depth_of_tree, 0)\n",
    "\n",
    "preds = prediction(x, tree)\n",
    "# print(preds)\n",
    "print(\"Train accuracy\") \n",
    "print(get_accuracy(preds, list(x['label'])))\n",
    "\n",
    "preds = prediction(x_test, tree)\n",
    "# print(preds)\n",
    "print(\"Test accuracy\")\n",
    "print(get_accuracy(preds, list(x_test['label'])))"
   ]
  },
  {
   "cell_type": "code",
   "execution_count": null,
   "id": "bad97abf",
   "metadata": {},
   "outputs": [
    {
     "name": "stdout",
     "output_type": "stream",
     "text": [
      "----------------------------Full Trees--------------------------\n"
     ]
    }
   ],
   "source": [
    "print(\"----------------------------Full Trees--------------------------\")\n",
    "depth_of_tree = 0\n",
    "tree = decision_tree(x, depth_of_tree, 7)\n",
    "# pprint(tree)\n",
    "\n",
    "\n",
    "preds = prediction(x, tree)\n",
    "# print(preds)\n",
    "print(\"Train accuracy\") \n",
    "print(get_accuracy(preds, list(x['label'])))\n",
    "\n",
    "preds = prediction(x_test, tree)\n",
    "# print(preds)\n",
    "print(\"Test accuracy\")\n",
    "print(get_accuracy(preds, list(x_test['label'])))\n"
   ]
  },
  {
   "cell_type": "code",
   "execution_count": null,
   "id": "9f0b451c",
   "metadata": {},
   "outputs": [],
   "source": [
    "print(\"Depth of the tree: 6\")"
   ]
  },
  {
   "cell_type": "code",
   "execution_count": null,
   "id": "f0fdec67",
   "metadata": {},
   "outputs": [],
   "source": [
    "def testing_with_depths(d, x = x, x_test = x_test):\n",
    "#     print(\"For Depth:\", d, end=\" \")\n",
    "    tree = decision_tree(x, 0, d)\n",
    "    # pprint(tree)\n",
    "    preds = prediction(x, tree)\n",
    "    # print(preds)\n",
    "#     print(\"Train accuracy:\",get_accuracy(preds, list(x['label'])), end=\" \") \n",
    "    preds = prediction(x_test, tree)\n",
    "#     print(\"Test accuracy:\",get_accuracy(preds, list(x_test['label'])))\n",
    "    return get_accuracy(preds, list(x_test['label']))"
   ]
  },
  {
   "cell_type": "code",
   "execution_count": null,
   "id": "928cef6b",
   "metadata": {},
   "outputs": [],
   "source": [
    "print(\"----------------------------Limiting Depth---------------------------------------------\")\n",
    "best_depth = k_fold_cross_validation()\n",
    "print(\"Best Depth after k_fold_cross_validation is {}\".format(best_depth))"
   ]
  },
  {
   "cell_type": "code",
   "execution_count": null,
   "id": "f6806a5a",
   "metadata": {},
   "outputs": [],
   "source": [
    "depth_of_tree = 0\n",
    "tree = decision_tree(x, depth_of_tree, best_depth)\n",
    "# pprint(tree)\n",
    "\n",
    "preds = prediction(x, tree)\n",
    "print(\"Train accuracy with best depth after k_fold_cross_validation: \",get_accuracy(preds, list(x['label']))) \n",
    "# print(get_accuracy(preds, list(x['label'])))\n",
    "\n",
    "preds = prediction(x_test, tree)\n",
    "print(\"Test accuracy with best depth after k_fold_cross_validation: \",get_accuracy(preds, list(x_test['label'])))\n",
    "# print(get_accuracy(preds, list(x_test['label'])))\n"
   ]
  }
 ],
 "metadata": {
  "kernelspec": {
   "display_name": "Python 3 (ipykernel)",
   "language": "python",
   "name": "python3"
  },
  "language_info": {
   "codemirror_mode": {
    "name": "ipython",
    "version": 3
   },
   "file_extension": ".py",
   "mimetype": "text/x-python",
   "name": "python",
   "nbconvert_exporter": "python",
   "pygments_lexer": "ipython3",
   "version": "3.9.13"
  }
 },
 "nbformat": 4,
 "nbformat_minor": 5
}
